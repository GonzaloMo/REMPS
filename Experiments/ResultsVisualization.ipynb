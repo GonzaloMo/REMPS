{
 "cells": [
  {
   "cell_type": "code",
   "execution_count": 1,
   "metadata": {},
   "outputs": [],
   "source": [
    "import pandas as pd\n",
    "import random\n",
    "import numpy as np\n",
    "import os\n",
    "from copy import deepcopy\n",
    "from utils.Visualization import plot_action_prob, plotConfig\n",
    "import matplotlib.pyplot as plt"
   ]
  },
  {
   "cell_type": "code",
   "execution_count": 2,
   "metadata": {},
   "outputs": [
    {
     "name": "stdout",
     "output_type": "stream",
     "text": [
      "0: Voices_4_Overlap_0.0\n"
     ]
    }
   ],
   "source": [
    "# foldername = \"./Results/SimpleSatellite-setgoals-v4/\"\n",
    "foldername_init = \"./Results/arbiter_test/EqualEta/\"\n",
    "foldername = foldername_init + \"Variable_Voice/\" # \"Variable_Voice/\" # \"Overlapping/\"\n",
    "fig_size = (20,10)\n",
    "agent_list = os.listdir(foldername)\n",
    "\n",
    "agent_list_to_sort = []\n",
    "for i, fol in enumerate(agent_list):\n",
    "    val_list = fol.split(\"_\")\n",
    "    agent_list_to_sort.append(float(val_list[1])+float(val_list[3])) \n",
    "    \n",
    "agent_list = [x for _, x in sorted(zip(agent_list_to_sort, agent_list))]\n",
    "for i, fol in enumerate(agent_list):\n",
    "    print(f\"{i}: {fol}\")"
   ]
  },
  {
   "cell_type": "code",
   "execution_count": 3,
   "metadata": {},
   "outputs": [
    {
     "name": "stdout",
     "output_type": "stream",
     "text": [
      "./Results/arbiter_test/EqualEta/Variable_Voice//Voices_4_Overlap_0.0//results.feather\n"
     ]
    }
   ],
   "source": [
    "foldername_specific = foldername + \"/\" + agent_list[0] + \"/\"\n",
    "filename = foldername_specific + \"/results.feather\"\n",
    "print(filename)"
   ]
  },
  {
   "cell_type": "code",
   "execution_count": 4,
   "metadata": {},
   "outputs": [],
   "source": [
    "results_df = pd.read_feather(filename)\n",
    "results_df.head()"
   ]
  },
  {
   "cell_type": "code",
   "execution_count": 17,
   "metadata": {},
   "outputs": [
    {
     "name": "stdout",
     "output_type": "stream",
     "text": [
      "Total actions: 61\n",
      "Total targets: 20\n",
      "Error with Voice_0\n",
      "Error with Voice_0 Targets\n",
      "Episode: 4\n",
      "Reward: 27\n"
     ]
    }
   ],
   "source": [
    "# v4 epi 4 Test 3\n",
    "specify_epi = 4 #len(results_df)-1 # len(results_df)-1  # results_df[\"Reward\"].idxmin() # results_df[\"Reward\"].idxmax() # random.randint(0, len(results_df)) \n",
    "Telemetry_dict = {}\n",
    "Config_dict = {}\n",
    "length_epi = len(results_df[\"Pos\"][specify_epi])\n",
    "total_actions = len(results_df[\"action_list\"][specify_epi])\n",
    "total_targets = total_actions // 3\n",
    "print(f\"Total actions: {total_actions}\")\n",
    "print(f\"Total targets: {total_targets}\")\n",
    "\n",
    "action_list = results_df[\"action_list\"][specify_epi]\n",
    "for k, v in results_df.items():\n",
    "    # try:\n",
    "    if k == \"Reward\" or k == \"Memory Size\" or k == \"N_Repeat\":\n",
    "        Config_dict[k] = v[specify_epi]\n",
    "    else:\n",
    "        try:\n",
    "            length_vector = len(v[specify_epi]) \n",
    "            if length_vector > len(action_list)+1:\n",
    "                if length_vector == length_epi:\n",
    "                    Telemetry_dict[k] = v[specify_epi]\n",
    "                else:\n",
    "                    extension = [np.zeros(len(v[specify_epi][length_vector-1]))]*(length_epi - length_vector)\n",
    "                    Telemetry_dict[k] = list(v[specify_epi]) + extension\n",
    "                \n",
    "            else:\n",
    "                Config_dict[k] = v[specify_epi]\n",
    "        except:\n",
    "            print(f\"Error with {k}\")\n",
    "    #     print(f\"Error with {k}\")\n",
    "    #     Config_dict[k] = v[specify_epi]\n",
    "\n",
    "# Error with Reward\n",
    "# Error with Memory Size\n",
    "# Error with N_Repeat\n",
    "\n",
    "print(f\"Episode: {specify_epi}\")\n",
    "print(f\"Reward: {results_df['Reward'][specify_epi]}\")"
   ]
  },
  {
   "cell_type": "code",
   "execution_count": 8,
   "metadata": {},
   "outputs": [
    {
     "name": "stdout",
     "output_type": "stream",
     "text": [
      "Config: 61\n"
     ]
    }
   ],
   "source": [
    "DbConfig_dict = {}\n",
    "for k, v in Config_dict.items():\n",
    "    if k != \"Reward\":\n",
    "        DbConfig_dict[k] = [v]\n",
    "DbTelemetry_dict = {}\n",
    "for k, v in Telemetry_dict.items():\n",
    "    DbTelemetry_dict[k] = v\n",
    "action_list = Config_dict[\"action_list\"]   \n",
    "\n",
    "print(f\"Config: {len(action_list)}\")"
   ]
  },
  {
   "cell_type": "markdown",
   "metadata": {},
   "source": [
    "Config_db = pd.DataFrame(DbConfig_dict)\n",
    "Config_db.to_csv(foldername + \"Config.csv\")\n",
    "Telemetry_db = pd.DataFrame(DbTelemetry_dict)\n",
    "Telemetry_db.to_csv(foldername + \"Telemetry.csv\")\n"
   ]
  },
  {
   "attachments": {},
   "cell_type": "markdown",
   "metadata": {},
   "source": [
    "# Plots"
   ]
  },
  {
   "attachments": {},
   "cell_type": "markdown",
   "metadata": {},
   "source": [
    "## Set up"
   ]
  },
  {
   "cell_type": "code",
   "execution_count": null,
   "metadata": {},
   "outputs": [],
   "source": [
    "init_orbit = 0\n",
    "mks = 8\n",
    "n_orbits = 10"
   ]
  },
  {
   "cell_type": "code",
   "execution_count": 10,
   "metadata": {},
   "outputs": [
    {
     "name": "stdout",
     "output_type": "stream",
     "text": [
      "ini: 0, end: 3000\n",
      "Pos ini: 0.003333333333333333, Pos end: 10.003333333333394\n",
      "Total Oribts: 33\n",
      "Total Orbit Tele: 33\n",
      "Total steps: 9977\n",
      "Action duration: [20 50 20]\n",
      "Orbits: 33\n"
     ]
    }
   ],
   "source": [
    "import matplotlib.pyplot as plt\n",
    "total_steps = len(Telemetry_dict[\"Pos\"])-1\n",
    "tot_orbit = total_steps // 300\n",
    "t_orbits = Telemetry_dict[\"Orbit\"][-1]\n",
    "dP = int(n_orbits*300)\n",
    "memory_size = Config_dict[\"Memory Size\"]\n",
    "p_ini = max(0, min(init_orbit*300, total_steps-dP))\n",
    "p_end = min(p_ini + dP, total_steps)\n",
    "vC, nvC, idleC = \"g\", \"r\", \"orange\"\n",
    "action_duration = Config_dict[\"Action Duration\"][1:]\n",
    "print(f\"ini: {p_ini}, end: {p_end}\")\n",
    "print(f\"Pos ini: {Telemetry_dict['Pos'][p_ini]/360}, Pos end: {Telemetry_dict['Pos'][p_end]/360}\")\n",
    "print(f\"Total Oribts: {tot_orbit}\")\n",
    "print(f\"Total Orbit Tele: {t_orbits}\")\n",
    "print(f\"Total steps: {total_steps}\")\n",
    "print(f\"Action duration: {action_duration}\")\n",
    "print(f\"Orbits: {Telemetry_dict['Orbit'][-1]}\")"
   ]
  },
  {
   "attachments": {},
   "cell_type": "markdown",
   "metadata": {},
   "source": [
    "## Actions sent"
   ]
  },
  {
   "cell_type": "code",
   "execution_count": 11,
   "metadata": {},
   "outputs": [],
   "source": [
    "# fig, ax = plotConfig(Config_dict, fig_size=fig_size, y_max = len(Config_dict[\"action_list\"]), epsilon=2,x_min= Telemetry_dict[\"Pos\"][p_ini], x_max=Telemetry_dict[\"Pos\"][p_end])\n",
    "for i, a in enumerate(Telemetry_dict[\"action\"][p_ini:p_end]):\n",
    "    i_pos = p_ini + i\n",
    "    alp = 1.\n",
    "    \n",
    "    if (not Telemetry_dict[\"Busy\"][i_pos-1] or i_pos==0):\n",
    "        if Telemetry_dict[\"Valid Action\"][i]:\n",
    "            c = vC\n",
    "        else:\n",
    "            c = nvC\n",
    "    else:    \n",
    "        c = nvC\n",
    "        alp = .5\n",
    "\n",
    "    if i_pos==0:\n",
    "        x_a = 0\n",
    "    else:\n",
    "        x_a = Telemetry_dict[\"Pos\"][i_pos-1]/360\n",
    "    # if a != 0:\n",
    "        # ax.plot(x_a, a, c, marker=\"o\", markersize=mks, alpha=alp)\n",
    "# ax.set_yticks([ a for a in range(1, total_actions)])\n",
    "ia, ip = -1, -1\n",
    "for i, ac_name in enumerate(Config_dict[\"action_list\"]):\n",
    "    if i>0:\n",
    "        if \"dump\" in ac_name:\n",
    "            if ia < 0:\n",
    "                ia = i - 1\n",
    "            actName = ac_name.replace(\"dump img\", \"DP \")\n",
    "        elif \"analyze\" in ac_name:\n",
    "            if ip < 0:\n",
    "                ip = i - 1\n",
    "            actName = ac_name.replace(\"analyze img\", \"AP \")\n",
    "        elif \"take_picture\" in ac_name:\n",
    "            actName = ac_name.replace(\"take_picture img\", \"TP \")\n",
    "        action_list_str.append(actName)\n",
    "    else:\n",
    "        action_list_str = [\"idle\"]\n",
    "\n",
    "# ax.set_yticklabels(action_list_str)\n",
    "\n",
    "\n",
    "# ax2 = ax.twinx()  \n",
    "# ax2.plot(Telemetry_dict[\"Pos\"]/360, 100*Telemetry_dict[\"Memory Level\"]/memory_size, \"b\", label=\"Memory\")\n",
    "# ax2.plot(Telemetry_dict[\"Pos\"]/360, Telemetry_dict[\"Power\"], \"g\", label=\"Power\")\n",
    "# ax2.set_yticks([0, 25, 50, 75, 100])\n",
    "# ax2.set_ylabel(\"Power / Memory (%)\")\n",
    "# ax2.legend(loc=\"upper right\")\n",
    "# ax2.set_ylim(0, 100)\n",
    "# ax2.grid(color='blue', linestyle='--', linewidth=2, alpha=.5)\n",
    "# ax.grid()\n",
    "# ax.set_ylim(0, total_actions)\n",
    "# ax.set_xlabel(\"Position (Orbits)\")\n",
    "# ax.set_xlim((Telemetry_dict[\"Pos\"][max(0,p_ini-1)]-1)/360, Telemetry_dict[\"Pos\"][p_end]/360)\n",
    "# fig.savefig(foldername_specific + \"DotActions.png\", dpi=300)"
   ]
  },
  {
   "attachments": {},
   "cell_type": "markdown",
   "metadata": {},
   "source": [
    "## Schedule"
   ]
  },
  {
   "cell_type": "code",
   "execution_count": 12,
   "metadata": {},
   "outputs": [
    {
     "name": "stdout",
     "output_type": "stream",
     "text": [
      "1800\n",
      "[1, 20, 21, 40, 41, 60]\n",
      "['TP 1\\n', '\\n TP 20', 'AP 1\\n', '\\n AP 20', 'DP 1\\n', '\\n DP 20']\n"
     ]
    }
   ],
   "source": [
    "import matplotlib\n",
    "from matplotlib.ticker import (MultipleLocator, AutoMinorLocator)\n",
    "matplotlib.rcParams.update({'font.size': 22})\n",
    "fig, ax = plotConfig(Config_dict, fig_size=fig_size, y_max = len(Config_dict[\"action_list\"]), epsilon=2,x_min= Telemetry_dict[\"Pos\"][p_ini], x_max=Telemetry_dict[\"Pos\"][p_end])\n",
    "ap = 1\n",
    "x, y, y_v, y_m = [], [], [], []\n",
    "pos_vec, action_vec = [], []\n",
    "busytime = 0\n",
    "for i, a in enumerate(Telemetry_dict[\"action\"][p_ini:p_end]):\n",
    "    i_pos = p_ini + i\n",
    "    busytime -= 1\n",
    "    if busytime <= 0:\n",
    "        \n",
    "        mkr = \"|-\"\n",
    "        if action_vec != []:\n",
    "            x.append(pos_vec)\n",
    "            y.append(action_vec)\n",
    "            y_v.append(c)\n",
    "            y_m.append(mkr)\n",
    "        \n",
    "        if a!=0:\n",
    "            if Telemetry_dict[\"Valid Action\"][i_pos]:\n",
    "                c = vC\n",
    "            else:\n",
    "                c = nvC\n",
    "            busytime = action_duration[(a-1)//total_targets]/2\n",
    "        else:\n",
    "            c = idleC\n",
    "        \n",
    "        action_vec = []\n",
    "        pos_vec = []\n",
    "        \n",
    "        # print(busytime)\n",
    "        ap = a\n",
    "\n",
    "    if i_pos==0:\n",
    "        x_a = 0\n",
    "    else:\n",
    "        x_a = Telemetry_dict[\"Pos\"][i_pos-1]/360\n",
    "    action_vec.append(ap)\n",
    "    pos_vec.append(x_a)\n",
    "\n",
    "\n",
    "for i in range(len(x)):\n",
    "    if y[i][0] != 0:\n",
    "\n",
    "        ax.plot(x[i], y[i], y_m[i], color=y_v[i], markersize=20, markevery=[0, -1], linewidth=2)\n",
    "y_ticks  = [1, ip, ip+1,  ia, ia+1, len(action_list_str)-1]\n",
    "ax.yaxis.set_minor_locator(AutoMinorLocator(ip-1))\n",
    "\n",
    "print(y_ticks)\n",
    "ax.set_yticks(y_ticks)\n",
    "ylabels = []\n",
    "for i, a in enumerate(action_list_str):\n",
    "    if i in y_ticks and i>0:\n",
    "        if i%2 == 0:\n",
    "            ylabels.append(\"\\n \"+a)\n",
    "        else:\n",
    "            ylabels.append(a+\"\\n\")\n",
    "print(ylabels)\n",
    "ax.set_yticklabels(ylabels)\n",
    "fig.suptitle(\"Test 2: Telemetry and Schedule\")\n",
    "\n",
    "ax.tick_params(which='both', width=2)\n",
    "ax.tick_params(which='major', length=14)\n",
    "ax.tick_params(which='minor', length=4,)\n",
    "ax.grid(which=\"minor\", alpha=.5, linewidth=1)\n",
    "ax.grid(which=\"major\", alpha=1, linewidth=2)\n",
    "\n",
    "ax2 = ax.twinx()  \n",
    "ax2.plot(Telemetry_dict[\"Pos\"]/360, 100*Telemetry_dict[\"Memory Level\"]/memory_size, \"b\", label=\"Memory\")\n",
    "ax2.plot(Telemetry_dict[\"Pos\"]/360, Telemetry_dict[\"Power\"], \"g\", label=\"Power\")\n",
    "ax2.set_yticks([0, 25, 50, 75, 100])\n",
    "ax2.set_ylabel(\"Power / Memory (%)\")\n",
    "ax2.legend(loc=\"upper left\")\n",
    "ax2.set_ylim(0, 100)\n",
    "ax2.grid(color='blue', linestyle='--', linewidth=2, alpha=.5)\n",
    "ax.set_ylim(0, total_actions)\n",
    "ax.set_xlabel(\"Position (orbits)\")\n",
    "ax.set_xlim((Telemetry_dict[\"Pos\"][max(0,p_ini-1)]-1)/360, Telemetry_dict[\"Pos\"][p_end]/360)\n",
    "fig.savefig(foldername_specific + \"BracketActions2.png\", dpi=300)"
   ]
  },
  {
   "cell_type": "markdown",
   "metadata": {},
   "source": [
    "# Goals"
   ]
  },
  {
   "cell_type": "code",
   "execution_count": 13,
   "metadata": {},
   "outputs": [],
   "source": [
    "p_ini = 0\n",
    "n_orbits = 300\n",
    "total_steps = len(Telemetry_dict[\"Pos\"])-1\n",
    "tot_orbit = total_steps // 300\n",
    "t_orbits = Telemetry_dict[\"Orbit\"][-1]\n",
    "dP = int(n_orbits*300)\n",
    "p_end = min(p_ini + dP, total_steps)"
   ]
  },
  {
   "cell_type": "code",
   "execution_count": 15,
   "metadata": {},
   "outputs": [],
   "source": [
    "matplotlib.rcParams.update({'font.size': 24})\n",
    "fig, ax = plt.subplots(1,1, figsize=fig_size)\n",
    "for k, v in Telemetry_dict.items():\n",
    "    if \"_Goals\" in k:\n",
    "        \n",
    "        Init_goal = np.sum(v[0])\n",
    "        k = k.replace(\"_Goals\", \"\")\n",
    "        k = k.replace(\"_\", \" \")\n",
    "        goals_left = np.sum(np.stack(v[p_ini:p_end]), axis=1)\n",
    "         \n",
    "        for i, g in enumerate(goals_left):\n",
    "            if g > 0 and (goals_left[i-1] == 0 or i == 0):\n",
    "                goals_plot = goals_left[i:]\n",
    "                pos_plot = Telemetry_dict[\"Pos\"][p_ini+i:p_end]/360\n",
    "                break\n",
    "        st_en_plot = ax.plot(pos_plot[0], goals_plot[0], label=k, marker=\"o\", markersize=10,linewidth=0)\n",
    "        color = st_en_plot[0].get_color()\n",
    "        ax.plot(pos_plot, goals_plot, color=color, linewidth=2)\n",
    "ax.set_xlabel(\"Position (orbits)\")\n",
    "ax.set_xlim(Telemetry_dict[\"Pos\"][max(0,p_ini-1)]-1, Telemetry_dict[\"Pos\"][p_end]/360)\n",
    "done = False\n",
    "\n",
    "# ax.set_ylim(-.1, 101)\n",
    "ax.set_ylabel(\"Goals Left\")\n",
    "fig.suptitle(\"Test 3: Goal Development\")\n",
    "\n",
    "ax.yaxis.set_minor_locator(AutoMinorLocator(2))\n",
    "ax.tick_params(which='both', width=2)\n",
    "ax.tick_params(which='major', length=14)\n",
    "ax.tick_params(which='minor', length=4,)\n",
    "ax.grid(which=\"minor\", alpha=.5, linewidth=1)\n",
    "ax.grid(which=\"major\", alpha=1, linewidth=2)\n",
    "\n",
    "ax.legend(loc=\"upper right\")\n",
    "# ax.set_ylim(-.5, 10.5)\n",
    "\n",
    "fig.savefig(foldername_specific + \"Goals.png\", dpi=300)"
   ]
  },
  {
   "cell_type": "code",
   "execution_count": null,
   "metadata": {},
   "outputs": [],
   "source": []
  },
  {
   "cell_type": "code",
   "execution_count": null,
   "metadata": {},
   "outputs": [],
   "source": []
  }
 ],
 "metadata": {
  "kernelspec": {
   "display_name": "Python 3",
   "language": "python",
   "name": "python3"
  },
  "language_info": {
   "codemirror_mode": {
    "name": "ipython",
    "version": 3
   },
   "file_extension": ".py",
   "mimetype": "text/x-python",
   "name": "python",
   "nbconvert_exporter": "python",
   "pygments_lexer": "ipython3",
   "version": "3.8.10"
  },
  "orig_nbformat": 4,
  "vscode": {
   "interpreter": {
    "hash": "df900d286e90876983dda80641e7540ebe603757b953c0c3acba49564b56c5a5"
   }
  }
 },
 "nbformat": 4,
 "nbformat_minor": 2
}
